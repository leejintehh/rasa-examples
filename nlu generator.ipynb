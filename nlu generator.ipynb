{
 "cells": [
  {
   "cell_type": "code",
   "execution_count": 3,
   "metadata": {},
   "outputs": [
    {
     "ename": "NotSupportedError",
     "evalue": "Authentication plugin 'caching_sha2_password' is not supported",
     "output_type": "error",
     "traceback": [
      "\u001b[1;31m---------------------------------------------------------------------------\u001b[0m",
      "\u001b[1;31mNotSupportedError\u001b[0m                         Traceback (most recent call last)",
      "Cell \u001b[1;32mIn[3], line 3\u001b[0m\n\u001b[0;32m      1\u001b[0m \u001b[38;5;28;01mfrom\u001b[39;00m \u001b[38;5;21;01mmysql\u001b[39;00m \u001b[38;5;28;01mimport\u001b[39;00m connector\n\u001b[1;32m----> 3\u001b[0m cnx \u001b[38;5;241m=\u001b[39m \u001b[43mconnector\u001b[49m\u001b[38;5;241;43m.\u001b[39;49m\u001b[43mconnect\u001b[49m\u001b[43m(\u001b[49m\u001b[43muser\u001b[49m\u001b[38;5;241;43m=\u001b[39;49m\u001b[38;5;124;43m'\u001b[39;49m\u001b[38;5;124;43mroot\u001b[39;49m\u001b[38;5;124;43m'\u001b[39;49m\u001b[43m,\u001b[49m\u001b[43m \u001b[49m\u001b[43mpassword\u001b[49m\u001b[38;5;241;43m=\u001b[39;49m\u001b[38;5;124;43m'\u001b[39;49m\u001b[38;5;124;43mpassword123\u001b[39;49m\u001b[38;5;124;43m'\u001b[39;49m\u001b[43m,\u001b[49m\n\u001b[0;32m      4\u001b[0m \u001b[43m                              \u001b[49m\u001b[43mhost\u001b[49m\u001b[38;5;241;43m=\u001b[39;49m\u001b[38;5;124;43m'\u001b[39;49m\u001b[38;5;124;43mlocalhost\u001b[39;49m\u001b[38;5;124;43m'\u001b[39;49m\u001b[43m,\u001b[49m\n\u001b[0;32m      5\u001b[0m \u001b[43m                              \u001b[49m\u001b[43mdatabase\u001b[49m\u001b[38;5;241;43m=\u001b[39;49m\u001b[38;5;124;43m'\u001b[39;49m\u001b[38;5;124;43mfood_ordering\u001b[39;49m\u001b[38;5;124;43m'\u001b[39;49m\u001b[43m)\u001b[49m\n\u001b[0;32m      6\u001b[0m cnx\u001b[38;5;241m.\u001b[39mclose()\n",
      "File \u001b[1;32mc:\\Users\\lee\\AppData\\Local\\Programs\\Python\\Python39\\lib\\site-packages\\mysql\\connector\\__init__.py:179\u001b[0m, in \u001b[0;36mconnect\u001b[1;34m(*args, **kwargs)\u001b[0m\n\u001b[0;32m    177\u001b[0m     \u001b[38;5;28;01mreturn\u001b[39;00m CMySQLConnection(\u001b[38;5;241m*\u001b[39margs, \u001b[38;5;241m*\u001b[39m\u001b[38;5;241m*\u001b[39mkwargs)\n\u001b[0;32m    178\u001b[0m \u001b[38;5;28;01melse\u001b[39;00m:\n\u001b[1;32m--> 179\u001b[0m     \u001b[38;5;28;01mreturn\u001b[39;00m MySQLConnection(\u001b[38;5;241m*\u001b[39margs, \u001b[38;5;241m*\u001b[39m\u001b[38;5;241m*\u001b[39mkwargs)\n",
      "File \u001b[1;32mc:\\Users\\lee\\AppData\\Local\\Programs\\Python\\Python39\\lib\\site-packages\\mysql\\connector\\connection.py:95\u001b[0m, in \u001b[0;36mMySQLConnection.__init__\u001b[1;34m(self, *args, **kwargs)\u001b[0m\n\u001b[0;32m     92\u001b[0m \u001b[38;5;28mself\u001b[39m\u001b[38;5;241m.\u001b[39m_pool_config_version \u001b[38;5;241m=\u001b[39m \u001b[38;5;28;01mNone\u001b[39;00m\n\u001b[0;32m     94\u001b[0m \u001b[38;5;28;01mif\u001b[39;00m \u001b[38;5;28mlen\u001b[39m(kwargs) \u001b[38;5;241m>\u001b[39m \u001b[38;5;241m0\u001b[39m:\n\u001b[1;32m---> 95\u001b[0m     \u001b[38;5;28mself\u001b[39m\u001b[38;5;241m.\u001b[39mconnect(\u001b[38;5;241m*\u001b[39m\u001b[38;5;241m*\u001b[39mkwargs)\n",
      "File \u001b[1;32mc:\\Users\\lee\\AppData\\Local\\Programs\\Python\\Python39\\lib\\site-packages\\mysql\\connector\\abstracts.py:716\u001b[0m, in \u001b[0;36mMySQLConnectionAbstract.connect\u001b[1;34m(self, **kwargs)\u001b[0m\n\u001b[0;32m    713\u001b[0m     \u001b[38;5;28mself\u001b[39m\u001b[38;5;241m.\u001b[39mconfig(\u001b[38;5;241m*\u001b[39m\u001b[38;5;241m*\u001b[39mkwargs)\n\u001b[0;32m    715\u001b[0m \u001b[38;5;28mself\u001b[39m\u001b[38;5;241m.\u001b[39mdisconnect()\n\u001b[1;32m--> 716\u001b[0m \u001b[38;5;28;43mself\u001b[39;49m\u001b[38;5;241;43m.\u001b[39;49m\u001b[43m_open_connection\u001b[49m\u001b[43m(\u001b[49m\u001b[43m)\u001b[49m\n\u001b[0;32m    717\u001b[0m \u001b[38;5;28mself\u001b[39m\u001b[38;5;241m.\u001b[39m_post_connection()\n",
      "File \u001b[1;32mc:\\Users\\lee\\AppData\\Local\\Programs\\Python\\Python39\\lib\\site-packages\\mysql\\connector\\connection.py:208\u001b[0m, in \u001b[0;36mMySQLConnection._open_connection\u001b[1;34m(self)\u001b[0m\n\u001b[0;32m    206\u001b[0m \u001b[38;5;28mself\u001b[39m\u001b[38;5;241m.\u001b[39m_socket\u001b[38;5;241m.\u001b[39mopen_connection()\n\u001b[0;32m    207\u001b[0m \u001b[38;5;28mself\u001b[39m\u001b[38;5;241m.\u001b[39m_do_handshake()\n\u001b[1;32m--> 208\u001b[0m \u001b[38;5;28;43mself\u001b[39;49m\u001b[38;5;241;43m.\u001b[39;49m\u001b[43m_do_auth\u001b[49m\u001b[43m(\u001b[49m\u001b[38;5;28;43mself\u001b[39;49m\u001b[38;5;241;43m.\u001b[39;49m\u001b[43m_user\u001b[49m\u001b[43m,\u001b[49m\u001b[43m \u001b[49m\u001b[38;5;28;43mself\u001b[39;49m\u001b[38;5;241;43m.\u001b[39;49m\u001b[43m_password\u001b[49m\u001b[43m,\u001b[49m\n\u001b[0;32m    209\u001b[0m \u001b[43m              \u001b[49m\u001b[38;5;28;43mself\u001b[39;49m\u001b[38;5;241;43m.\u001b[39;49m\u001b[43m_database\u001b[49m\u001b[43m,\u001b[49m\u001b[43m \u001b[49m\u001b[38;5;28;43mself\u001b[39;49m\u001b[38;5;241;43m.\u001b[39;49m\u001b[43m_client_flags\u001b[49m\u001b[43m,\u001b[49m\u001b[43m \u001b[49m\u001b[38;5;28;43mself\u001b[39;49m\u001b[38;5;241;43m.\u001b[39;49m\u001b[43m_charset_id\u001b[49m\u001b[43m,\u001b[49m\n\u001b[0;32m    210\u001b[0m \u001b[43m              \u001b[49m\u001b[38;5;28;43mself\u001b[39;49m\u001b[38;5;241;43m.\u001b[39;49m\u001b[43m_ssl\u001b[49m\u001b[43m)\u001b[49m\n\u001b[0;32m    211\u001b[0m \u001b[38;5;28mself\u001b[39m\u001b[38;5;241m.\u001b[39mset_converter_class(\u001b[38;5;28mself\u001b[39m\u001b[38;5;241m.\u001b[39m_converter_class)\n\u001b[0;32m    212\u001b[0m \u001b[38;5;28;01mif\u001b[39;00m \u001b[38;5;28mself\u001b[39m\u001b[38;5;241m.\u001b[39m_client_flags \u001b[38;5;241m&\u001b[39m ClientFlag\u001b[38;5;241m.\u001b[39mCOMPRESS:\n",
      "File \u001b[1;32mc:\\Users\\lee\\AppData\\Local\\Programs\\Python\\Python39\\lib\\site-packages\\mysql\\connector\\connection.py:137\u001b[0m, in \u001b[0;36mMySQLConnection._do_auth\u001b[1;34m(self, username, password, database, client_flags, charset, ssl_options)\u001b[0m\n\u001b[0;32m    134\u001b[0m     \u001b[38;5;28mself\u001b[39m\u001b[38;5;241m.\u001b[39m_socket\u001b[38;5;241m.\u001b[39mswitch_to_ssl(\u001b[38;5;241m*\u001b[39m\u001b[38;5;241m*\u001b[39mssl_options)\n\u001b[0;32m    135\u001b[0m     \u001b[38;5;28mself\u001b[39m\u001b[38;5;241m.\u001b[39m_ssl_active \u001b[38;5;241m=\u001b[39m \u001b[38;5;28;01mTrue\u001b[39;00m\n\u001b[1;32m--> 137\u001b[0m packet \u001b[38;5;241m=\u001b[39m \u001b[38;5;28;43mself\u001b[39;49m\u001b[38;5;241;43m.\u001b[39;49m\u001b[43m_protocol\u001b[49m\u001b[38;5;241;43m.\u001b[39;49m\u001b[43mmake_auth\u001b[49m\u001b[43m(\u001b[49m\n\u001b[0;32m    138\u001b[0m \u001b[43m    \u001b[49m\u001b[43mhandshake\u001b[49m\u001b[38;5;241;43m=\u001b[39;49m\u001b[38;5;28;43mself\u001b[39;49m\u001b[38;5;241;43m.\u001b[39;49m\u001b[43m_handshake\u001b[49m\u001b[43m,\u001b[49m\n\u001b[0;32m    139\u001b[0m \u001b[43m    \u001b[49m\u001b[43musername\u001b[49m\u001b[38;5;241;43m=\u001b[39;49m\u001b[43musername\u001b[49m\u001b[43m,\u001b[49m\u001b[43m \u001b[49m\u001b[43mpassword\u001b[49m\u001b[38;5;241;43m=\u001b[39;49m\u001b[43mpassword\u001b[49m\u001b[43m,\u001b[49m\u001b[43m \u001b[49m\u001b[43mdatabase\u001b[49m\u001b[38;5;241;43m=\u001b[39;49m\u001b[43mdatabase\u001b[49m\u001b[43m,\u001b[49m\n\u001b[0;32m    140\u001b[0m \u001b[43m    \u001b[49m\u001b[43mcharset\u001b[49m\u001b[38;5;241;43m=\u001b[39;49m\u001b[43mcharset\u001b[49m\u001b[43m,\u001b[49m\u001b[43m \u001b[49m\u001b[43mclient_flags\u001b[49m\u001b[38;5;241;43m=\u001b[39;49m\u001b[43mclient_flags\u001b[49m\u001b[43m,\u001b[49m\n\u001b[0;32m    141\u001b[0m \u001b[43m    \u001b[49m\u001b[43mssl_enabled\u001b[49m\u001b[38;5;241;43m=\u001b[39;49m\u001b[38;5;28;43mself\u001b[39;49m\u001b[38;5;241;43m.\u001b[39;49m\u001b[43m_ssl_active\u001b[49m\u001b[43m,\u001b[49m\n\u001b[0;32m    142\u001b[0m \u001b[43m    \u001b[49m\u001b[43mauth_plugin\u001b[49m\u001b[38;5;241;43m=\u001b[39;49m\u001b[38;5;28;43mself\u001b[39;49m\u001b[38;5;241;43m.\u001b[39;49m\u001b[43m_auth_plugin\u001b[49m\u001b[43m)\u001b[49m\n\u001b[0;32m    143\u001b[0m \u001b[38;5;28mself\u001b[39m\u001b[38;5;241m.\u001b[39m_socket\u001b[38;5;241m.\u001b[39msend(packet)\n\u001b[0;32m    144\u001b[0m \u001b[38;5;28mself\u001b[39m\u001b[38;5;241m.\u001b[39m_auth_switch_request(username, password)\n",
      "File \u001b[1;32mc:\\Users\\lee\\AppData\\Local\\Programs\\Python\\Python39\\lib\\site-packages\\mysql\\connector\\protocol.py:99\u001b[0m, in \u001b[0;36mMySQLProtocol.make_auth\u001b[1;34m(self, handshake, username, password, database, charset, client_flags, max_allowed_packet, ssl_enabled, auth_plugin)\u001b[0m\n\u001b[0;32m     93\u001b[0m     username_bytes \u001b[38;5;241m=\u001b[39m username\n\u001b[0;32m     94\u001b[0m packet \u001b[38;5;241m=\u001b[39m struct\u001b[38;5;241m.\u001b[39mpack(\u001b[38;5;124m'\u001b[39m\u001b[38;5;124m<IIB\u001b[39m\u001b[38;5;132;01m{filler}\u001b[39;00m\u001b[38;5;132;01m{usrlen}\u001b[39;00m\u001b[38;5;124msx\u001b[39m\u001b[38;5;124m'\u001b[39m\u001b[38;5;241m.\u001b[39mformat(\n\u001b[0;32m     95\u001b[0m     filler\u001b[38;5;241m=\u001b[39m\u001b[38;5;124m'\u001b[39m\u001b[38;5;124mx\u001b[39m\u001b[38;5;124m'\u001b[39m \u001b[38;5;241m*\u001b[39m \u001b[38;5;241m23\u001b[39m, usrlen\u001b[38;5;241m=\u001b[39m\u001b[38;5;28mlen\u001b[39m(username_bytes)),\n\u001b[0;32m     96\u001b[0m                      client_flags, max_allowed_packet, charset,\n\u001b[0;32m     97\u001b[0m                      username_bytes)\n\u001b[1;32m---> 99\u001b[0m packet \u001b[38;5;241m+\u001b[39m\u001b[38;5;241m=\u001b[39m \u001b[38;5;28;43mself\u001b[39;49m\u001b[38;5;241;43m.\u001b[39;49m\u001b[43m_auth_response\u001b[49m\u001b[43m(\u001b[49m\u001b[43mclient_flags\u001b[49m\u001b[43m,\u001b[49m\u001b[43m \u001b[49m\u001b[43musername\u001b[49m\u001b[43m,\u001b[49m\u001b[43m \u001b[49m\u001b[43mpassword\u001b[49m\u001b[43m,\u001b[49m\n\u001b[0;32m    100\u001b[0m \u001b[43m                              \u001b[49m\u001b[43mdatabase\u001b[49m\u001b[43m,\u001b[49m\n\u001b[0;32m    101\u001b[0m \u001b[43m                              \u001b[49m\u001b[43mauth_plugin\u001b[49m\u001b[43m,\u001b[49m\n\u001b[0;32m    102\u001b[0m \u001b[43m                              \u001b[49m\u001b[43mauth_data\u001b[49m\u001b[43m,\u001b[49m\u001b[43m \u001b[49m\u001b[43mssl_enabled\u001b[49m\u001b[43m)\u001b[49m\n\u001b[0;32m    104\u001b[0m packet \u001b[38;5;241m+\u001b[39m\u001b[38;5;241m=\u001b[39m \u001b[38;5;28mself\u001b[39m\u001b[38;5;241m.\u001b[39m_connect_with_db(client_flags, database)\n\u001b[0;32m    106\u001b[0m \u001b[38;5;28;01mif\u001b[39;00m client_flags \u001b[38;5;241m&\u001b[39m ClientFlag\u001b[38;5;241m.\u001b[39mPLUGIN_AUTH:\n",
      "File \u001b[1;32mc:\\Users\\lee\\AppData\\Local\\Programs\\Python\\Python39\\lib\\site-packages\\mysql\\connector\\protocol.py:58\u001b[0m, in \u001b[0;36mMySQLProtocol._auth_response\u001b[1;34m(self, client_flags, username, password, database, auth_plugin, auth_data, ssl_enabled)\u001b[0m\n\u001b[0;32m     55\u001b[0m     \u001b[38;5;28;01mreturn\u001b[39;00m \u001b[38;5;124mb\u001b[39m\u001b[38;5;124m'\u001b[39m\u001b[38;5;130;01m\\x00\u001b[39;00m\u001b[38;5;124m'\u001b[39m\n\u001b[0;32m     57\u001b[0m \u001b[38;5;28;01mtry\u001b[39;00m:\n\u001b[1;32m---> 58\u001b[0m     auth \u001b[38;5;241m=\u001b[39m \u001b[43mget_auth_plugin\u001b[49m\u001b[43m(\u001b[49m\u001b[43mauth_plugin\u001b[49m\u001b[43m)\u001b[49m(\n\u001b[0;32m     59\u001b[0m         auth_data,\n\u001b[0;32m     60\u001b[0m         username\u001b[38;5;241m=\u001b[39musername, password\u001b[38;5;241m=\u001b[39mpassword, database\u001b[38;5;241m=\u001b[39mdatabase,\n\u001b[0;32m     61\u001b[0m         ssl_enabled\u001b[38;5;241m=\u001b[39mssl_enabled)\n\u001b[0;32m     62\u001b[0m     plugin_auth_response \u001b[38;5;241m=\u001b[39m auth\u001b[38;5;241m.\u001b[39mauth_response()\n\u001b[0;32m     63\u001b[0m \u001b[38;5;28;01mexcept\u001b[39;00m (\u001b[38;5;167;01mTypeError\u001b[39;00m, errors\u001b[38;5;241m.\u001b[39mInterfaceError) \u001b[38;5;28;01mas\u001b[39;00m exc:\n",
      "File \u001b[1;32mc:\\Users\\lee\\AppData\\Local\\Programs\\Python\\Python39\\lib\\site-packages\\mysql\\connector\\authentication.py:190\u001b[0m, in \u001b[0;36mget_auth_plugin\u001b[1;34m(plugin_name)\u001b[0m\n\u001b[0;32m    187\u001b[0m     \u001b[38;5;28;01mif\u001b[39;00m authclass\u001b[38;5;241m.\u001b[39mplugin_name \u001b[38;5;241m==\u001b[39m plugin_name:\n\u001b[0;32m    188\u001b[0m         \u001b[38;5;28;01mreturn\u001b[39;00m authclass\n\u001b[1;32m--> 190\u001b[0m \u001b[38;5;28;01mraise\u001b[39;00m errors\u001b[38;5;241m.\u001b[39mNotSupportedError(\n\u001b[0;32m    191\u001b[0m     \u001b[38;5;124m\"\u001b[39m\u001b[38;5;124mAuthentication plugin \u001b[39m\u001b[38;5;124m'\u001b[39m\u001b[38;5;132;01m{0}\u001b[39;00m\u001b[38;5;124m'\u001b[39m\u001b[38;5;124m is not supported\u001b[39m\u001b[38;5;124m\"\u001b[39m\u001b[38;5;241m.\u001b[39mformat(plugin_name))\n",
      "\u001b[1;31mNotSupportedError\u001b[0m: Authentication plugin 'caching_sha2_password' is not supported"
     ]
    }
   ],
   "source": [
    "from mysql import connector\n",
    "\n",
    "cnx = connector.connect(user='root', password='password123',\n",
    "                              host='localhost',\n",
    "                              database='food_ordering')\n",
    "cnx.close()"
   ]
  },
  {
   "cell_type": "code",
   "execution_count": 54,
   "metadata": {},
   "outputs": [
    {
     "name": "stdout",
     "output_type": "stream",
     "text": [
      "Collecting packaging==20.0\n",
      "  Using cached packaging-20.0-py2.py3-none-any.whl.metadata (10 kB)\n",
      "Requirement already satisfied: pyparsing>=2.0.2 in c:\\users\\lee\\appdata\\local\\programs\\python\\python39\\lib\\site-packages (from packaging==20.0) (3.1.4)\n",
      "Requirement already satisfied: six in c:\\users\\lee\\appdata\\local\\programs\\python\\python39\\lib\\site-packages (from packaging==20.0) (1.16.0)\n",
      "Using cached packaging-20.0-py2.py3-none-any.whl (36 kB)\n",
      "Installing collected packages: packaging\n",
      "  Attempting uninstall: packaging\n",
      "    Found existing installation: packaging 24.1\n",
      "    Uninstalling packaging-24.1:\n",
      "      Successfully uninstalled packaging-24.1\n",
      "Successfully installed packaging-20.0\n"
     ]
    },
    {
     "name": "stderr",
     "output_type": "stream",
     "text": [
      "ERROR: pip's dependency resolver does not currently take into account all the packages that are installed. This behaviour is the source of the following dependency conflicts.\n",
      "rasa 3.6.20 requires prompt-toolkit<3.0.29,>=3.0, but you have prompt-toolkit 3.0.47 which is incompatible.\n"
     ]
    }
   ],
   "source": [
    "!pip install packaging==20.0"
   ]
  },
  {
   "cell_type": "code",
   "execution_count": 4,
   "metadata": {},
   "outputs": [
    {
     "name": "stdout",
     "output_type": "stream",
     "text": [
      "^C\n"
     ]
    }
   ],
   "source": [
    "!pip uninstall mysql-connector"
   ]
  },
  {
   "cell_type": "code",
   "execution_count": 41,
   "metadata": {},
   "outputs": [],
   "source": [
    "res=[]\n",
    "for num in ['one','two','three','1','2','3']:\n",
    "    for food in ['pizza','burger','bun','noodles']:\n",
    "        res.append(f'i want [{num}](food_quantity) [{food}](food_item) ')\n",
    "        res.append(f'ill have [{num}](food_quantity) [{food}](food_item)')\n",
    "        res.append(f'[{num}](food_quantity) [{food}](food_item) please')\n",
    "        res.append(f'[{num}](food_quantity) [{food}](food_item) thank you')\n"
   ]
  },
  {
   "cell_type": "code",
   "execution_count": 8,
   "metadata": {},
   "outputs": [],
   "source": [
    "import pandas as pd\n"
   ]
  },
  {
   "cell_type": "code",
   "execution_count": 28,
   "metadata": {},
   "outputs": [
    {
     "data": {
      "text/plain": [
       "96"
      ]
     },
     "execution_count": 28,
     "metadata": {},
     "output_type": "execute_result"
    }
   ],
   "source": [
    "len(res)"
   ]
  },
  {
   "cell_type": "code",
   "execution_count": 42,
   "metadata": {},
   "outputs": [
    {
     "name": "stdout",
     "output_type": "stream",
     "text": [
      " - i want [one](food_quantity) [pizza](food_item) \n",
      " - ill have [one](food_quantity) [pizza](food_item)\n",
      " - [one](food_quantity) [pizza](food_item) please\n",
      " - [one](food_quantity) [pizza](food_item) thank you\n",
      " - i want [one](food_quantity) [burger](food_item) \n",
      " - ill have [one](food_quantity) [burger](food_item)\n",
      " - [one](food_quantity) [burger](food_item) please\n",
      " - [one](food_quantity) [burger](food_item) thank you\n",
      " - i want [one](food_quantity) [bun](food_item) \n",
      " - ill have [one](food_quantity) [bun](food_item)\n",
      " - [one](food_quantity) [bun](food_item) please\n",
      " - [one](food_quantity) [bun](food_item) thank you\n",
      " - i want [one](food_quantity) [noodles](food_item) \n",
      " - ill have [one](food_quantity) [noodles](food_item)\n",
      " - [one](food_quantity) [noodles](food_item) please\n",
      " - [one](food_quantity) [noodles](food_item) thank you\n",
      " - i want [two](food_quantity) [pizza](food_item) \n",
      " - ill have [two](food_quantity) [pizza](food_item)\n",
      " - [two](food_quantity) [pizza](food_item) please\n",
      " - [two](food_quantity) [pizza](food_item) thank you\n",
      " - i want [two](food_quantity) [burger](food_item) \n",
      " - ill have [two](food_quantity) [burger](food_item)\n",
      " - [two](food_quantity) [burger](food_item) please\n",
      " - [two](food_quantity) [burger](food_item) thank you\n",
      " - i want [two](food_quantity) [bun](food_item) \n",
      " - ill have [two](food_quantity) [bun](food_item)\n",
      " - [two](food_quantity) [bun](food_item) please\n",
      " - [two](food_quantity) [bun](food_item) thank you\n",
      " - i want [two](food_quantity) [noodles](food_item) \n",
      " - ill have [two](food_quantity) [noodles](food_item)\n",
      " - [two](food_quantity) [noodles](food_item) please\n",
      " - [two](food_quantity) [noodles](food_item) thank you\n",
      " - i want [three](food_quantity) [pizza](food_item) \n",
      " - ill have [three](food_quantity) [pizza](food_item)\n",
      " - [three](food_quantity) [pizza](food_item) please\n",
      " - [three](food_quantity) [pizza](food_item) thank you\n",
      " - i want [three](food_quantity) [burger](food_item) \n",
      " - ill have [three](food_quantity) [burger](food_item)\n",
      " - [three](food_quantity) [burger](food_item) please\n",
      " - [three](food_quantity) [burger](food_item) thank you\n",
      " - i want [three](food_quantity) [bun](food_item) \n",
      " - ill have [three](food_quantity) [bun](food_item)\n",
      " - [three](food_quantity) [bun](food_item) please\n",
      " - [three](food_quantity) [bun](food_item) thank you\n",
      " - i want [three](food_quantity) [noodles](food_item) \n",
      " - ill have [three](food_quantity) [noodles](food_item)\n",
      " - [three](food_quantity) [noodles](food_item) please\n",
      " - [three](food_quantity) [noodles](food_item) thank you\n",
      " - i want [1](food_quantity) [pizza](food_item) \n",
      " - ill have [1](food_quantity) [pizza](food_item)\n",
      " - [1](food_quantity) [pizza](food_item) please\n",
      " - [1](food_quantity) [pizza](food_item) thank you\n",
      " - i want [1](food_quantity) [burger](food_item) \n",
      " - ill have [1](food_quantity) [burger](food_item)\n",
      " - [1](food_quantity) [burger](food_item) please\n",
      " - [1](food_quantity) [burger](food_item) thank you\n",
      " - i want [1](food_quantity) [bun](food_item) \n",
      " - ill have [1](food_quantity) [bun](food_item)\n",
      " - [1](food_quantity) [bun](food_item) please\n",
      " - [1](food_quantity) [bun](food_item) thank you\n",
      " - i want [1](food_quantity) [noodles](food_item) \n",
      " - ill have [1](food_quantity) [noodles](food_item)\n",
      " - [1](food_quantity) [noodles](food_item) please\n",
      " - [1](food_quantity) [noodles](food_item) thank you\n",
      " - i want [2](food_quantity) [pizza](food_item) \n",
      " - ill have [2](food_quantity) [pizza](food_item)\n",
      " - [2](food_quantity) [pizza](food_item) please\n",
      " - [2](food_quantity) [pizza](food_item) thank you\n",
      " - i want [2](food_quantity) [burger](food_item) \n",
      " - ill have [2](food_quantity) [burger](food_item)\n",
      " - [2](food_quantity) [burger](food_item) please\n",
      " - [2](food_quantity) [burger](food_item) thank you\n",
      " - i want [2](food_quantity) [bun](food_item) \n",
      " - ill have [2](food_quantity) [bun](food_item)\n",
      " - [2](food_quantity) [bun](food_item) please\n",
      " - [2](food_quantity) [bun](food_item) thank you\n",
      " - i want [2](food_quantity) [noodles](food_item) \n",
      " - ill have [2](food_quantity) [noodles](food_item)\n",
      " - [2](food_quantity) [noodles](food_item) please\n",
      " - [2](food_quantity) [noodles](food_item) thank you\n",
      " - i want [3](food_quantity) [pizza](food_item) \n",
      " - ill have [3](food_quantity) [pizza](food_item)\n",
      " - [3](food_quantity) [pizza](food_item) please\n",
      " - [3](food_quantity) [pizza](food_item) thank you\n",
      " - i want [3](food_quantity) [burger](food_item) \n",
      " - ill have [3](food_quantity) [burger](food_item)\n",
      " - [3](food_quantity) [burger](food_item) please\n",
      " - [3](food_quantity) [burger](food_item) thank you\n",
      " - i want [3](food_quantity) [bun](food_item) \n",
      " - ill have [3](food_quantity) [bun](food_item)\n",
      " - [3](food_quantity) [bun](food_item) please\n",
      " - [3](food_quantity) [bun](food_item) thank you\n",
      " - i want [3](food_quantity) [noodles](food_item) \n",
      " - ill have [3](food_quantity) [noodles](food_item)\n",
      " - [3](food_quantity) [noodles](food_item) please\n",
      " - [3](food_quantity) [noodles](food_item) thank you\n"
     ]
    }
   ],
   "source": [
    "print(' - '+ '\\n - '.join(res))"
   ]
  },
  {
   "cell_type": "code",
   "execution_count": 31,
   "metadata": {},
   "outputs": [
    {
     "ename": "AttributeError",
     "evalue": "'list' object has no attribute 'join'",
     "output_type": "error",
     "traceback": [
      "\u001b[1;31m---------------------------------------------------------------------------\u001b[0m",
      "\u001b[1;31mAttributeError\u001b[0m                            Traceback (most recent call last)",
      "Cell \u001b[1;32mIn[31], line 1\u001b[0m\n\u001b[1;32m----> 1\u001b[0m \u001b[43mres\u001b[49m\u001b[38;5;241;43m.\u001b[39;49m\u001b[43mjoin\u001b[49m(\u001b[38;5;124m'\u001b[39m\u001b[38;5;124m - \u001b[39m\u001b[38;5;124m'\u001b[39m)\n",
      "\u001b[1;31mAttributeError\u001b[0m: 'list' object has no attribute 'join'"
     ]
    }
   ],
   "source": [
    "res.join(' - ')"
   ]
  },
  {
   "cell_type": "code",
   "execution_count": 29,
   "metadata": {},
   "outputs": [
    {
     "data": {
      "text/plain": [
       "array(['i want [1](food_quantity) [burger](food_item) ',\n",
       "       '[one](food_quantity) [noodles](food_item) thank you',\n",
       "       'i want [2](food_quantity) [noodles](food_item) ',\n",
       "       ' ill have[2](food_quantity) [bun](food_item)',\n",
       "       ' ill have[one](food_quantity) [bun](food_item)',\n",
       "       'i want [2](food_quantity) [pizza](food_item) ',\n",
       "       'i want [2](food_quantity) [burger](food_item) ',\n",
       "       'i want [three](food_quantity) [noodles](food_item) ',\n",
       "       ' ill have[3](food_quantity) [noodles](food_item)',\n",
       "       ' ill have[two](food_quantity) [pizza](food_item)',\n",
       "       '[one](food_quantity) [pizza](food_item) thank you',\n",
       "       ' ill have[3](food_quantity) [burger](food_item)',\n",
       "       '[1](food_quantity) [noodles](food_item) thank you',\n",
       "       'i want [three](food_quantity) [bun](food_item) ',\n",
       "       '[1](food_quantity) [bun](food_item) thank you'], dtype=object)"
      ]
     },
     "execution_count": 29,
     "metadata": {},
     "output_type": "execute_result"
    }
   ],
   "source": [
    "pd.Series(res).sample(15).values"
   ]
  },
  {
   "cell_type": "code",
   "execution_count": 26,
   "metadata": {},
   "outputs": [
    {
     "name": "stdout",
     "output_type": "stream",
     "text": [
      "\n",
      " - [three](quantity) [small](shirt_size) size\n",
      " - [two](quantity) [small](shirt_size)\n",
      " - [two](quantity) [large](shirt_size)\n",
      " - [three](quantity) [med](shirt_size) tshirt\n",
      " - [two](quantity) [large](shirt_size) tshirt\n",
      " - [three](quantity) [med](shirt_size) size\n",
      " - [three](quantity) [medium](shirt_size) tshirt\n",
      " - i want [three](quantity) [small](shirt_size) shirt\n",
      " - [one](quantity) [large](shirt_size) size\n",
      " - [three](quantity) [small](shirt_size)\n",
      " - [one](quantity) [medium](shirt_size)\n",
      " - [one](quantity) [med](shirt_size) size\n",
      " - [one](quantity) [med](shirt_size)\n",
      " - i want [one](quantity) [med](shirt_size) shirt\n",
      " - [two](quantity) [med](shirt_size)\n",
      "\n"
     ]
    }
   ],
   "source": [
    "print('''\n",
    "' - [three](food_quantity) [small](food_item) size',\n",
    "       '[two](food_quantity) [small](food_item)',\n",
    "       '[two](food_quantity) [large](food_item)',\n",
    "       '[three](food_quantity) [med](food_item) tshirt',\n",
    "       '[two](food_quantity) [large](food_item) tshirt',\n",
    "       '[three](food_quantity) [med](food_item) size',\n",
    "       '[three](food_quantity) [medium](food_item) tshirt',\n",
    "       'i want [three](food_quantity) [small](food_item) shirt',\n",
    "       '[one](food_quantity) [large](food_item) size',\n",
    "       '[three](food_quantity) [small](food_item)',\n",
    "       '[one](food_quantity) [medium](food_item)',\n",
    "       '[one](food_quantity) [med](food_item) size',\n",
    "       '[one](food_quantity) [med](food_item)',\n",
    "       'i want [one](food_quantity) [med](food_item) shirt',\n",
    "       '[two](food_quantity) [med](food_item)'\n",
    "'''.replace(\"'\",'').replace(\",\",'').replace(\"       \",' - '))"
   ]
  }
 ],
 "metadata": {
  "kernelspec": {
   "display_name": "Python 3",
   "language": "python",
   "name": "python3"
  },
  "language_info": {
   "codemirror_mode": {
    "name": "ipython",
    "version": 3
   },
   "file_extension": ".py",
   "mimetype": "text/x-python",
   "name": "python",
   "nbconvert_exporter": "python",
   "pygments_lexer": "ipython3",
   "version": "3.9.13"
  }
 },
 "nbformat": 4,
 "nbformat_minor": 2
}
